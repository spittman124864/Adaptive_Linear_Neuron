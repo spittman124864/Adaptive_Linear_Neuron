{
 "cells": [
  {
   "cell_type": "markdown",
   "metadata": {},
   "source": [
    "In this notebook, I introduce an adaptive linear neuron with Stochastic Gradient Descent and annealing. I then train and test out how well the neuron classifies two different cultivars of an Iris.   "
   ]
  },
  {
   "cell_type": "code",
   "execution_count": 99,
   "metadata": {
    "collapsed": true
   },
   "outputs": [],
   "source": [
    "class AdalineSGDeta(object):\n",
    "    \"\"\"Adaptive Perceptron classifier that uses stochastic gradient descent with annealing.\n",
    "    \n",
    "    Parameters\n",
    "    ------------\n",
    "    eta_0,eta_1 : float\n",
    "      If anneal = True, learning rate decreases with iterations for annealing as,\n",
    "          eta = eta_0/((interations)+eta_1)\n",
    "    n_iter : int\n",
    "      Passes over the training dataset.\n",
    "    random_state : int\n",
    "      Random number generator seed for random weight\n",
    "      initialization.\n",
    "    shuffle : bool (default = True)\n",
    "      Shuffles the training data to prevent cycles\n",
    "      \n",
    "\n",
    "    Attributes\n",
    "    -----------\n",
    "    w_ : 1d-array\n",
    "      Weights after fitting.\n",
    "    cost_ : list of cost=sum(error^2)/2 in each epoch.\n",
    "    \n",
    "\n",
    "    \"\"\"\n",
    "    def __init__(self, eta_0=0.1,eta_1=0.5, anneal=True, n_iter=50, random_state=1,shuffle=True):\n",
    "        \n",
    "        self.eta = eta_0\n",
    "        self.eta1 = eta_1\n",
    "        self.n_iter = n_iter\n",
    "        self.random_state = random_state\n",
    "        self.shuffle=shuffle\n",
    "        self.w_initialized = False\n",
    "        self.anneal = anneal\n",
    "       \n",
    "        \n",
    "    def fit(self, X, y):\n",
    "        \"\"\"Fit training data.\n",
    "\n",
    "        Parameters\n",
    "        ----------\n",
    "        X : {array-like}, shape = [n_samples, n_features]\n",
    "          Training vectors, where n_samples is the number of samples and\n",
    "          n_features is the number of features.\n",
    "        y : array-like, shape = [n_samples]\n",
    "          Target values.\n",
    "         \n",
    "        Attributes\n",
    "        -------\n",
    "        cost_ : list\n",
    "          Sum-of-squares cost function value averaged over all training samples in each epoch.\n",
    "        w_ : list \n",
    "            array of weights after fit\n",
    "        eta_: number\n",
    "            final eta after annealing\n",
    "\n",
    "        Returns\n",
    "        -------\n",
    "        self : object\n",
    "\n",
    "        \"\"\"\n",
    "        \n",
    "        \n",
    "        self.cost_ = []\n",
    "        self._initialize_weights(X.shape[1])\n",
    "        \n",
    "\n",
    "        for i in range(self.n_iter):\n",
    "            cost=[]; \n",
    "            self._eta_update(i)\n",
    "            if self.shuffle:\n",
    "                X,y=self.shuffle_data(X,y)\n",
    "            for xi, target in zip(X, y):\n",
    "                cost.append(self._update_weights(xi,target))\n",
    "                \n",
    "            avg_cost=sum(cost)/len(y)\n",
    "            self.cost_.append(avg_cost)    \n",
    "        return self\n",
    "\n",
    "    def _initialize_weights(self,p): \n",
    "        \"\"\"Initializes random weights and sets self.w_initialized to true\"\"\"\n",
    "        self.rgen = np.random.RandomState(self.random_state)\n",
    "        #size = w0 + a weight for your n_features of your input\n",
    "        self.w_ = self.rgen.normal(loc=0.0, scale=0.01, size=1 + p)\n",
    "        self.w_initialized = True\n",
    "       \n",
    "    def _update_weights(self,xi,target):\n",
    "        \"\"\"Updates weights based on error for each xi\"\"\"\n",
    "        output = self.activation(self.net_input(xi))\n",
    "        error = (target-output) \n",
    "        self.w_[0] += self.eta*error\n",
    "        self.w_[1:] += self.eta*error*xi\n",
    "        cost = 0.5*error**2\n",
    "        return cost\n",
    "    \n",
    "    def _eta_update(self,i):\n",
    "        if self.anneal:\n",
    "            if i > 0:\n",
    "                self.eta=self.eta*(i+(self.eta1-1))/(i+self.eta1)\n",
    "            else:\n",
    "                self.eta=self.eta/(self.eta1)\n",
    "        else: \n",
    "            self.eta=self.eta\n",
    "\n",
    "    def net_input(self, X):\n",
    "        \"\"\"Calculate net input\"\"\"\n",
    "        return np.dot(X, self.w_[1:]) + self.w_[0]\n",
    "    \n",
    "    def shuffle_data(self,X,y):\n",
    "        \"\"\"Shuffles Training Data\"\"\"\n",
    "        r=self.rgen.permutation(len(y))\n",
    "        return X[r],y[r]\n",
    "    \n",
    "    def activation(self, X):\n",
    "        \"\"\"Compute linear activation\"\"\"\n",
    "        return X\n",
    "\n",
    "    def partial_fit(self,X,y):\n",
    "        if not self.w_initialized:\n",
    "            self._initialize_weights(X.shape[1])\n",
    "            self.eta=self.eta/self.eta1\n",
    "        if y.ravel().shape[0] > 1:\n",
    "            for xi, target in zip(X, y):\n",
    "                self._update_weights(xi,target)\n",
    "        else:\n",
    "            self._update_weights(X,y) \n",
    "        \n",
    "        return self\n",
    "\n",
    "    def predict(self, X):\n",
    "        \"\"\"Return class label after unit step.  Note: It assumes negative class = -1\"\"\"\n",
    "        return np.where(self.activation(self.net_input(X)) >= 0.0, 1, -1)\n"
   ]
  },
  {
   "cell_type": "code",
   "execution_count": 96,
   "metadata": {
    "collapsed": false
   },
   "outputs": [],
   "source": [
    "from matplotlib.colors import ListedColormap\n",
    "\n",
    "\n",
    "\"\"\"This function generates a 2x2 numerical grid of data features and calls the classifier to predict the class (positive or negative) depending on the feature coordinate\n",
    "The predicted classes \"Z\" is depicted in color on the contour plot\"\"\"\n",
    "\n",
    "def plot_decision_regions(X, y,classifier, resolution=0.02,Labels=None):\n",
    "\n",
    "    # setup marker generator and color map\n",
    "    markers = ('s', 'x', 'o', '^', 'v')\n",
    "    colors = ('red', 'blue', 'lightgreen', 'gray', 'cyan')\n",
    "    cmap = ListedColormap(colors[:len(np.unique(y))])\n",
    "\n",
    "    # plot the decision surface\n",
    "    x1_min, x1_max = X[:, 0].min() - 1, X[:, 0].max() + 1\n",
    "    x2_min, x2_max = X[:, 1].min() - 1, X[:, 1].max() + 1\n",
    "    xx1, xx2 = np.meshgrid(np.arange(x1_min, x1_max, resolution),\n",
    "                           np.arange(x2_min, x2_max, resolution))\n",
    "    #While you need the grid from the contour plot, you need just x1 and x2 values for your neural network\n",
    "    Z = classifier.predict(np.array([xx1.ravel(), xx2.ravel()]).T)\n",
    "    Z = Z.reshape(xx1.shape)\n",
    "    plt.contourf(xx1, xx2, Z, alpha=0.3, cmap=cmap)\n",
    "    plt.xlim(xx1.min(), xx1.max())\n",
    "    plt.ylim(xx2.min(), xx2.max())\n",
    "\n",
    "    # plot class samples\n",
    "    #what enumerate does is associates a number with each unique instance of y\n",
    "    \n",
    "    \n",
    "    for idx, cl in enumerate(np.unique(y)):\n",
    "        if Labels is None:\n",
    "            Labels=[\"Positive\",\"Negative\"]\n",
    "        plt.scatter(x=X[y == cl, 0], \n",
    "                    y=X[y == cl, 1],\n",
    "                    alpha=0.8, \n",
    "                    c=colors[idx],\n",
    "                    marker=markers[idx], \n",
    "                    label=Labels[idx], \n",
    "                    edgecolor='black')\n",
    "\n"
   ]
  },
  {
   "cell_type": "code",
   "execution_count": 31,
   "metadata": {
    "collapsed": true
   },
   "outputs": [],
   "source": [
    "\n",
    "def rescaler(X):\n",
    "    #rescales data by mean and standard deviation\n",
    "    return (X-X.mean())/X.std()\n",
    "\n"
   ]
  },
  {
   "cell_type": "code",
   "execution_count": 84,
   "metadata": {
    "collapsed": false
   },
   "outputs": [
    {
     "name": "stdout",
     "output_type": "stream",
     "text": [
      "(80, 2) (80,)\n",
      "(20, 2) (20,)\n"
     ]
    }
   ],
   "source": [
    "\n",
    "\n",
    "%matplotlib inline\n",
    "import matplotlib.pyplot as plt\n",
    "import numpy as np\n",
    "\n",
    "from sklearn import datasets\n",
    "from sklearn.cross_validation import train_test_split\n",
    "\n",
    "iris = datasets.load_iris()\n",
    "X = iris.data[:, [1, 3]]  #columns 1 and 3 describe the sepal and petal length\n",
    "y = iris.target\n",
    "\n",
    "\n",
    "#Our neuron casts the negative class as -1, not zero\n",
    "y[y==0]=-1\n",
    "\n",
    "#Rescaling Data\n",
    "X_scaled =np.copy(X)\n",
    "    \n",
    "    \n",
    "X_scaled[:,0] = rescaler(X_scaled[:,0])    \n",
    "X_scaled[:,1] = rescaler(X_scaled[:,1])    \n",
    "\n",
    "\n",
    "X_train, X_test, y_train, y_test = train_test_split(X_scaled[:100], y[:100], test_size=0.20)\n",
    "print(X_train.shape, y_train.shape)\n",
    "print(X_test.shape, y_test.shape)\n"
   ]
  },
  {
   "cell_type": "code",
   "execution_count": 97,
   "metadata": {
    "collapsed": false
   },
   "outputs": [
    {
     "data": {
      "image/png": "[encoded data removed]",
      "text/plain": [
       "<matplotlib.figure.Figure at 0x1159694a8>"
      ]
     },
     "metadata": {},
     "output_type": "display_data"
    },
    {
     "data": {
      "image/png": "[encoded data removed]",
      "text/plain": [
       "<matplotlib.figure.Figure at 0x118245ac8>"
      ]
     },
     "metadata": {},
     "output_type": "display_data"
    }
   ],
   "source": [
    "ada = AdalineSGDeta(n_iter=50, eta_0=0.1,eta_1=0.5, random_state=1)\n",
    "ada.fit(X_train,y_train)\n",
    "\n",
    "plot_decision_regions(X_train, y_train, Labels=iris.target_names[:2],classifier=ada)\n",
    "plt.title('Adaline - Stochastic Gradient Descent')\n",
    "plt.xlabel('sepal length [standardized]')\n",
    "plt.ylabel('petal length [standardized]')\n",
    "plt.legend(loc='upper left')\n",
    "plt.show()\n",
    "plt.plot(range(1, len(ada.cost_) + 1), ada.cost_, marker='o')\n",
    "plt.xlabel('Epochs')\n",
    "plt.ylabel('Average Cost')\n",
    "plt.show()"
   ]
  }
 ],
 "metadata": {
  "kernelspec": {
   "display_name": "Python 3",
   "language": "python",
   "name": "python3"
  },
  "language_info": {
   "codemirror_mode": {
    "name": "ipython",
    "version": 3
   },
   "file_extension": ".py",
   "mimetype": "text/x-python",
   "name": "python",
   "nbconvert_exporter": "python",
   "pygments_lexer": "ipython3",
   "version": "3.5.1"
  }
 },
 "nbformat": 4,
 "nbformat_minor": 0
}
